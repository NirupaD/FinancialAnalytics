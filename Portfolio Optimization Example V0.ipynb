{
 "cells": [
  {
   "cell_type": "markdown",
   "id": "90a9ee32-009f-448f-999d-65de5615ee70",
   "metadata": {},
   "source": [
    "### Historical Stock Return Data and Portfolio Construction\n",
    "#### This code is an example to download stock price data from Yahoo finance and to use the historical returns to construct an optimal portfolio by using mean-variance optimization. \n",
    "#### The optimization method uses the average stock returns, and the covariances of historical returns to solve for the portfolio mix that achieves the best value of (Expected Portfolio Return / Volatility of Portfolio Return) ratio.  "
   ]
  },
  {
   "cell_type": "code",
   "execution_count": 1,
   "id": "9d675454-18d2-4990-b49f-3115fefe2fa0",
   "metadata": {},
   "outputs": [
    {
     "name": "stderr",
     "output_type": "stream",
     "text": [
      "[*********************100%***********************]  5 of 5 completed\n"
     ]
    },
    {
     "ename": "KeyError",
     "evalue": "'^GSPC'",
     "output_type": "error",
     "traceback": [
      "\u001b[1;31m---------------------------------------------------------------------------\u001b[0m",
      "\u001b[1;31mKeyError\u001b[0m                                  Traceback (most recent call last)",
      "File \u001b[1;32m~\\anaconda3\\Lib\\site-packages\\pandas\\core\\indexes\\base.py:3653\u001b[0m, in \u001b[0;36mIndex.get_loc\u001b[1;34m(self, key)\u001b[0m\n\u001b[0;32m   3652\u001b[0m \u001b[38;5;28;01mtry\u001b[39;00m:\n\u001b[1;32m-> 3653\u001b[0m     \u001b[38;5;28;01mreturn\u001b[39;00m \u001b[38;5;28mself\u001b[39m\u001b[38;5;241m.\u001b[39m_engine\u001b[38;5;241m.\u001b[39mget_loc(casted_key)\n\u001b[0;32m   3654\u001b[0m \u001b[38;5;28;01mexcept\u001b[39;00m \u001b[38;5;167;01mKeyError\u001b[39;00m \u001b[38;5;28;01mas\u001b[39;00m err:\n",
      "File \u001b[1;32m~\\anaconda3\\Lib\\site-packages\\pandas\\_libs\\index.pyx:147\u001b[0m, in \u001b[0;36mpandas._libs.index.IndexEngine.get_loc\u001b[1;34m()\u001b[0m\n",
      "File \u001b[1;32m~\\anaconda3\\Lib\\site-packages\\pandas\\_libs\\index.pyx:176\u001b[0m, in \u001b[0;36mpandas._libs.index.IndexEngine.get_loc\u001b[1;34m()\u001b[0m\n",
      "File \u001b[1;32mpandas\\_libs\\hashtable_class_helper.pxi:7080\u001b[0m, in \u001b[0;36mpandas._libs.hashtable.PyObjectHashTable.get_item\u001b[1;34m()\u001b[0m\n",
      "File \u001b[1;32mpandas\\_libs\\hashtable_class_helper.pxi:7088\u001b[0m, in \u001b[0;36mpandas._libs.hashtable.PyObjectHashTable.get_item\u001b[1;34m()\u001b[0m\n",
      "\u001b[1;31mKeyError\u001b[0m: '^GSPC'",
      "\nThe above exception was the direct cause of the following exception:\n",
      "\u001b[1;31mKeyError\u001b[0m                                  Traceback (most recent call last)",
      "Cell \u001b[1;32mIn[1], line 17\u001b[0m\n\u001b[0;32m     14\u001b[0m monthly_returns \u001b[38;5;241m=\u001b[39m monthly_prices\u001b[38;5;241m.\u001b[39mpct_change()\u001b[38;5;241m.\u001b[39mdropna()\n\u001b[0;32m     16\u001b[0m \u001b[38;5;66;03m# Separate S&P 500 returns from stock returns\u001b[39;00m\n\u001b[1;32m---> 17\u001b[0m sp500_returns \u001b[38;5;241m=\u001b[39m monthly_returns[\u001b[38;5;124m'\u001b[39m\u001b[38;5;124m^GSPC\u001b[39m\u001b[38;5;124m'\u001b[39m]\n\u001b[0;32m     18\u001b[0m stock_returns \u001b[38;5;241m=\u001b[39m monthly_returns\u001b[38;5;241m.\u001b[39mdrop(columns\u001b[38;5;241m=\u001b[39m[\u001b[38;5;124m'\u001b[39m\u001b[38;5;124m^GSPC\u001b[39m\u001b[38;5;124m'\u001b[39m])\n\u001b[0;32m     20\u001b[0m \u001b[38;5;66;03m# Step 3: Estimate stock betas using regression\u001b[39;00m\n",
      "File \u001b[1;32m~\\anaconda3\\Lib\\site-packages\\pandas\\core\\frame.py:3761\u001b[0m, in \u001b[0;36mDataFrame.__getitem__\u001b[1;34m(self, key)\u001b[0m\n\u001b[0;32m   3759\u001b[0m \u001b[38;5;28;01mif\u001b[39;00m \u001b[38;5;28mself\u001b[39m\u001b[38;5;241m.\u001b[39mcolumns\u001b[38;5;241m.\u001b[39mnlevels \u001b[38;5;241m>\u001b[39m \u001b[38;5;241m1\u001b[39m:\n\u001b[0;32m   3760\u001b[0m     \u001b[38;5;28;01mreturn\u001b[39;00m \u001b[38;5;28mself\u001b[39m\u001b[38;5;241m.\u001b[39m_getitem_multilevel(key)\n\u001b[1;32m-> 3761\u001b[0m indexer \u001b[38;5;241m=\u001b[39m \u001b[38;5;28mself\u001b[39m\u001b[38;5;241m.\u001b[39mcolumns\u001b[38;5;241m.\u001b[39mget_loc(key)\n\u001b[0;32m   3762\u001b[0m \u001b[38;5;28;01mif\u001b[39;00m is_integer(indexer):\n\u001b[0;32m   3763\u001b[0m     indexer \u001b[38;5;241m=\u001b[39m [indexer]\n",
      "File \u001b[1;32m~\\anaconda3\\Lib\\site-packages\\pandas\\core\\indexes\\base.py:3655\u001b[0m, in \u001b[0;36mIndex.get_loc\u001b[1;34m(self, key)\u001b[0m\n\u001b[0;32m   3653\u001b[0m     \u001b[38;5;28;01mreturn\u001b[39;00m \u001b[38;5;28mself\u001b[39m\u001b[38;5;241m.\u001b[39m_engine\u001b[38;5;241m.\u001b[39mget_loc(casted_key)\n\u001b[0;32m   3654\u001b[0m \u001b[38;5;28;01mexcept\u001b[39;00m \u001b[38;5;167;01mKeyError\u001b[39;00m \u001b[38;5;28;01mas\u001b[39;00m err:\n\u001b[1;32m-> 3655\u001b[0m     \u001b[38;5;28;01mraise\u001b[39;00m \u001b[38;5;167;01mKeyError\u001b[39;00m(key) \u001b[38;5;28;01mfrom\u001b[39;00m \u001b[38;5;21;01merr\u001b[39;00m\n\u001b[0;32m   3656\u001b[0m \u001b[38;5;28;01mexcept\u001b[39;00m \u001b[38;5;167;01mTypeError\u001b[39;00m:\n\u001b[0;32m   3657\u001b[0m     \u001b[38;5;66;03m# If we have a listlike key, _check_indexing_error will raise\u001b[39;00m\n\u001b[0;32m   3658\u001b[0m     \u001b[38;5;66;03m#  InvalidIndexError. Otherwise we fall through and re-raise\u001b[39;00m\n\u001b[0;32m   3659\u001b[0m     \u001b[38;5;66;03m#  the TypeError.\u001b[39;00m\n\u001b[0;32m   3660\u001b[0m     \u001b[38;5;28mself\u001b[39m\u001b[38;5;241m.\u001b[39m_check_indexing_error(key)\n",
      "\u001b[1;31mKeyError\u001b[0m: '^GSPC'"
     ]
    }
   ],
   "source": [
    "import yfinance as yf\n",
    "import pandas as pd\n",
    "import numpy as np\n",
    "from sklearn.linear_model import LinearRegression\n",
    "import matplotlib.pyplot as plt\n",
    "from cvxopt import matrix, solvers\n",
    "\n",
    "# Step 1: Collect stock prices and the S&P 500 Index\n",
    "tickers = [\"C\", \"V\", \"NFLX\", \"KO\", \"XOM\"] #['IAU', 'VDE', 'XLB', 'DBC', 'CQQQ', '^GSPC']\n",
    "data = yf.download(tickers, start='2018-12-01', end='2021-12-31', interval='1d')['Adj Close']\n",
    "\n",
    "# Step 2: Calculate monthly returns\n",
    "monthly_prices = data.resample('M').last()\n",
    "monthly_returns = monthly_prices.pct_change().dropna()\n",
    "\n",
    "# Separate S&P 500 returns from stock returns\n",
    "sp500_returns = monthly_returns['^GSPC']\n",
    "stock_returns = monthly_returns.drop(columns=['^GSPC'])\n",
    "\n",
    "# Step 3: Estimate stock betas using regression\n",
    "betas = {}\n",
    "for stock in stock_returns.columns:\n",
    "    X = sp500_returns.values.reshape(-1, 1)\n",
    "    y = stock_returns[stock].values\n",
    "    reg = LinearRegression().fit(X, y)\n",
    "    betas[stock] = reg.coef_[0]\n",
    "\n",
    "# Sort stocks by beta and select the 5 highest beta stocks\n",
    "beta_sorted = sorted(betas.items(), key=lambda x: x[1], reverse=True)\n",
    "top_5_stocks = [stock for stock, beta in beta_sorted[:5]]\n",
    "\n",
    "# Plot the beta values as a bar chart\n",
    "plt.figure(figsize=(10, 6))\n",
    "plt.bar(betas.keys(), betas.values(), color='blue')\n",
    "plt.title('Estimated Betas for Each Stock')\n",
    "plt.xlabel('Stocks')\n",
    "plt.ylabel('Beta Value')\n",
    "plt.show()\n",
    "\n",
    "# Step 4: Mean-Variance Portfolio Optimization for top 5 beta stocks\n",
    "top_5_returns = stock_returns[top_5_stocks]\n",
    "\n",
    "# Calculate expected returns (mean returns) and covariance matrix\n",
    "mu = top_5_returns.mean().values\n",
    "cov_matrix = top_5_returns.cov().values\n",
    "\n",
    "# Define the Mean-Variance Optimization problem using cvxopt\n",
    "n = len(mu)\n",
    "P = matrix(cov_matrix)  # Covariance matrix\n",
    "q = matrix(np.zeros(n))  # No linear term (for minimizing variance)\n",
    "\n",
    "# Weight constraints: 5% <= weights <= 35%\n",
    "G = matrix(np.vstack((-np.eye(n), np.eye(n))))  # Inequality matrix\n",
    "h = matrix(np.hstack(([-0.05] * n, [0.35] * n)))  # Lower and upper bounds for the weights\n",
    "\n",
    "# Equality constraint: sum of weights = 1\n",
    "A = matrix(1.0, (1, n))  # Equality constraint matrix\n",
    "b = matrix(1.0)  # Bound for the equality constraint\n",
    "\n",
    "# Solve the optimization problem\n",
    "sol = solvers.qp(P, q, G, h, A, b)\n",
    "weights = np.array(sol['x']).flatten()\n",
    "\n",
    "# Step 5: Display the optimized portfolio weights\n",
    "optimized_weights = dict(zip(top_5_stocks, weights))\n",
    "print(\"Optimized Portfolio Weights:\")\n",
    "for stock, weight in optimized_weights.items():\n",
    "    print(f\"{stock}: {weight:.2%}\")\n",
    "\n",
    "# Step 6: Plot the pie chart of stock weights\n",
    "plt.figure(figsize=(8, 6))\n",
    "plt.pie(optimized_weights.values(), labels=optimized_weights.keys(), autopct='%1.1f%%', startangle=140)\n",
    "plt.title('Optimized Portfolio Stock Weights')\n",
    "plt.show()\n"
   ]
  },
  {
   "cell_type": "code",
   "execution_count": null,
   "id": "137d5568",
   "metadata": {},
   "outputs": [],
   "source": []
  }
 ],
 "metadata": {
  "kernelspec": {
   "display_name": "Python 3 (ipykernel)",
   "language": "python",
   "name": "python3"
  },
  "language_info": {
   "codemirror_mode": {
    "name": "ipython",
    "version": 3
   },
   "file_extension": ".py",
   "mimetype": "text/x-python",
   "name": "python",
   "nbconvert_exporter": "python",
   "pygments_lexer": "ipython3",
   "version": "3.11.5"
  }
 },
 "nbformat": 4,
 "nbformat_minor": 5
}
